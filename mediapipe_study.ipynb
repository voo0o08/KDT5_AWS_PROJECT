{
 "cells": [
  {
   "cell_type": "code",
   "execution_count": 1,
   "metadata": {},
   "outputs": [],
   "source": [
    "import mediapipe as mp\n",
    "from mediapipe.tasks import python\n",
    "from mediapipe.tasks.python import vision"
   ]
  },
  {
   "cell_type": "code",
   "execution_count": 30,
   "metadata": {},
   "outputs": [],
   "source": [
    "\n",
    "import cv2\n",
    "img_file = r\"data\\asl_dataset\\0\\hand1_0_bot_seg_1_cropped.jpeg\"\n",
    "\n",
    "img = cv2.imread(img_file)\n",
    "cv2.imshow(\"img\", img)\n",
    "\n",
    "cv2.waitKey(0)  # 변수값만큼 사용자의 키입력 시간을 대기시킴\n",
    "cv2.destroyAllWindows()  # 프로그램 종료전 자원을 해제"
   ]
  },
  {
   "cell_type": "code",
   "execution_count": 31,
   "metadata": {},
   "outputs": [],
   "source": [
    "from mediapipe import solutions\n",
    "from mediapipe.framework.formats import landmark_pb2\n",
    "import numpy as np\n",
    "\n",
    "MARGIN = 10  # pixels\n",
    "FONT_SIZE = 1\n",
    "FONT_THICKNESS = 1\n",
    "HANDEDNESS_TEXT_COLOR = (88, 205, 54) # vibrant green\n",
    "\n",
    "def draw_landmarks_on_image(rgb_image, detection_result):\n",
    "  hand_landmarks_list = detection_result.hand_landmarks\n",
    "  handedness_list = detection_result.handedness\n",
    "  annotated_image = np.copy(rgb_image)\n",
    "\n",
    "  # Loop through the detected hands to visualize.\n",
    "  for idx in range(len(hand_landmarks_list)):\n",
    "    hand_landmarks = hand_landmarks_list[idx]\n",
    "    handedness = handedness_list[idx]\n",
    "\n",
    "    # Draw the hand landmarks.\n",
    "    hand_landmarks_proto = landmark_pb2.NormalizedLandmarkList()\n",
    "    hand_landmarks_proto.landmark.extend([\n",
    "      landmark_pb2.NormalizedLandmark(x=landmark.x, y=landmark.y, z=landmark.z) for landmark in hand_landmarks\n",
    "    ])\n",
    "    solutions.drawing_utils.draw_landmarks(\n",
    "      annotated_image,\n",
    "      hand_landmarks_proto,\n",
    "      solutions.hands.HAND_CONNECTIONS,\n",
    "      solutions.drawing_styles.get_default_hand_landmarks_style(),\n",
    "      solutions.drawing_styles.get_default_hand_connections_style())\n",
    "\n",
    "    # Get the top left corner of the detected hand's bounding box.\n",
    "    height, width, _ = annotated_image.shape\n",
    "    x_coordinates = [landmark.x for landmark in hand_landmarks]\n",
    "    y_coordinates = [landmark.y for landmark in hand_landmarks]\n",
    "    text_x = int(min(x_coordinates) * width)\n",
    "    text_y = int(min(y_coordinates) * height) - MARGIN\n",
    "\n",
    "    # Draw handedness (left or right hand) on the image.\n",
    "    cv2.putText(annotated_image, f\"{handedness[0].category_name}\",\n",
    "                (text_x, text_y), cv2.FONT_HERSHEY_DUPLEX,\n",
    "                FONT_SIZE, HANDEDNESS_TEXT_COLOR, FONT_THICKNESS, cv2.LINE_AA)\n",
    "\n",
    "  return annotated_image"
   ]
  },
  {
   "cell_type": "code",
   "execution_count": 32,
   "metadata": {},
   "outputs": [],
   "source": [
    "# STEP 1: Import the necessary modules.\n",
    "import mediapipe as mp\n",
    "from mediapipe.tasks import python\n",
    "from mediapipe.tasks.python import vision\n",
    "\n",
    "# STEP 2: Create an HandLandmarker object.\n",
    "base_options = python.BaseOptions(model_asset_path='hand_landmarker.task')\n",
    "options = vision.HandLandmarkerOptions(base_options=base_options,\n",
    "                                       num_hands=2)\n",
    "## 옵션 설정한대로 디텍터 인스턴스 생성 \n",
    "detector = vision.HandLandmarker.create_from_options(options)\n",
    "\n",
    "# STEP 3: Load the input image.\n",
    "image = mp.Image.create_from_file(img_file)\n",
    "\n",
    "# STEP 4: Detect hand landmarks from the input image.\n",
    "detection_result = detector.detect(image)\n",
    "\n",
    "# STEP 5: Process the classification result. In this case, visualize it.\n",
    "annotated_image = draw_landmarks_on_image(image.numpy_view(), detection_result)\n",
    "cv2.imshow(\"after\",cv2.cvtColor(annotated_image, cv2.COLOR_RGB2BGR))\n",
    "\n",
    "cv2.waitKey(0)  # 변수값만큼 사용자의 키입력 시간을 대기시킴\n",
    "cv2.destroyAllWindows()  # 프로그램 종료전 자원을 해제"
   ]
  },
  {
   "cell_type": "code",
   "execution_count": 33,
   "metadata": {},
   "outputs": [
    {
     "name": "stdout",
     "output_type": "stream",
     "text": [
      "HandLandmarkerResult(handedness=[[Category(index=1, score=0.981009304523468, display_name='Left', category_name='Left')]], hand_landmarks=[[NormalizedLandmark(x=0.3141292929649353, y=0.2590300738811493, z=1.5954930177031201e-06, visibility=0.0, presence=0.0), NormalizedLandmark(x=0.3523979187011719, y=0.3131380081176758, z=-0.12230300903320312, visibility=0.0, presence=0.0), NormalizedLandmark(x=0.3940231204032898, y=0.3147427439689636, z=-0.20750030875205994, visibility=0.0, presence=0.0), NormalizedLandmark(x=0.4327913224697113, y=0.300647497177124, z=-0.2704578936100006, visibility=0.0, presence=0.0), NormalizedLandmark(x=0.4571651816368103, y=0.29349279403686523, z=-0.3268704116344452, visibility=0.0, presence=0.0), NormalizedLandmark(x=0.3406984210014343, y=0.1229001134634018, z=-0.2110891491174698, visibility=0.0, presence=0.0), NormalizedLandmark(x=0.5083426833152771, y=0.13431322574615479, z=-0.2864920496940613, visibility=0.0, presence=0.0), NormalizedLandmark(x=0.5962401628494263, y=0.18500757217407227, z=-0.3161943554878235, visibility=0.0, presence=0.0), NormalizedLandmark(x=0.6608062386512756, y=0.23078027367591858, z=-0.3326406478881836, visibility=0.0, presence=0.0), NormalizedLandmark(x=0.36045995354652405, y=0.050122007727622986, z=-0.1780056208372116, visibility=0.0, presence=0.0), NormalizedLandmark(x=0.5459367036819458, y=0.08128803223371506, z=-0.254905641078949, visibility=0.0, presence=0.0), NormalizedLandmark(x=0.6332616806030273, y=0.1538114845752716, z=-0.27101486921310425, visibility=0.0, presence=0.0), NormalizedLandmark(x=0.6846997737884521, y=0.21587300300598145, z=-0.2765865623950958, visibility=0.0, presence=0.0), NormalizedLandmark(x=0.3904399871826172, y=0.01298445463180542, z=-0.1498539000749588, visibility=0.0, presence=0.0), NormalizedLandmark(x=0.5575178265571594, y=0.04049766808748245, z=-0.21305830776691437, visibility=0.0, presence=0.0), NormalizedLandmark(x=0.6384523510932922, y=0.10992424190044403, z=-0.22285234928131104, visibility=0.0, presence=0.0), NormalizedLandmark(x=0.6861576437950134, y=0.16747799515724182, z=-0.2236417829990387, visibility=0.0, presence=0.0), NormalizedLandmark(x=0.4282647371292114, y=0.00024928152561187744, z=-0.13011807203292847, visibility=0.0, presence=0.0), NormalizedLandmark(x=0.547569215297699, y=0.025325804948806763, z=-0.18048010766506195, visibility=0.0, presence=0.0), NormalizedLandmark(x=0.6150975227355957, y=0.08331087231636047, z=-0.19677436351776123, visibility=0.0, presence=0.0), NormalizedLandmark(x=0.659629225730896, y=0.1285681426525116, z=-0.2024720460176468, visibility=0.0, presence=0.0)]], hand_world_landmarks=[[Landmark(x=-0.009366397745907307, y=0.015873443335294724, z=0.06590200960636139, visibility=0.0, presence=0.0), Landmark(x=9.156484156847e-05, y=0.026497015729546547, z=0.04409433528780937, visibility=0.0, presence=0.0), Landmark(x=0.007307299412786961, y=0.030860818922519684, z=0.024455329403281212, visibility=0.0, presence=0.0), Landmark(x=0.003556705079972744, y=0.032817400991916656, z=-0.0013360033044591546, visibility=0.0, presence=0.0), Landmark(x=-0.0010025575757026672, y=0.030431751161813736, z=-0.023101620376110077, visibility=0.0, presence=0.0), Landmark(x=-0.0016303034499287605, y=0.007012592162936926, z=-0.005391291342675686, visibility=0.0, presence=0.0), Landmark(x=0.005835322663187981, y=0.011090986430644989, z=-0.01185142993927002, visibility=0.0, presence=0.0), Landmark(x=0.024329494684934616, y=0.01694951206445694, z=-0.00037869889638386667, visibility=0.0, presence=0.0), Landmark(x=0.04225248098373413, y=0.024533644318580627, z=0.011570150032639503, visibility=0.0, presence=0.0), Landmark(x=-0.004542297217994928, y=0.00042593409307301044, z=0.00012121001782361418, visibility=0.0, presence=0.0), Landmark(x=0.006266113370656967, y=-0.0013351058587431908, z=-0.012525313533842564, visibility=0.0, presence=0.0), Landmark(x=0.023125048726797104, y=0.002758607268333435, z=-0.0022448834497481585, visibility=0.0, presence=0.0), Landmark(x=0.0401654951274395, y=0.007048836909234524, z=0.01894180290400982, visibility=0.0, presence=0.0), Landmark(x=0.002282454166561365, y=-0.005817887838929892, z=0.0016769588692113757, visibility=0.0, presence=0.0), Landmark(x=0.004075484815984964, y=-0.007275604177266359, z=-0.0016995799960568547, visibility=0.0, presence=0.0), Landmark(x=0.026556560769677162, y=-0.0014143837615847588, z=0.010405090637505054, visibility=0.0, presence=0.0), Landmark(x=0.04721241444349289, y=0.0011104103177785873, z=0.017826588824391365, visibility=0.0, presence=0.0), Landmark(x=-0.0016503785736858845, y=-0.00851556845009327, z=0.01663479022681713, visibility=0.0, presence=0.0), Landmark(x=0.008157150819897652, y=-0.008746517822146416, z=0.011734087020158768, visibility=0.0, presence=0.0), Landmark(x=0.026285557076334953, y=-0.00607954990118742, z=0.015360580757260323, visibility=0.0, presence=0.0), Landmark(x=0.037115924060344696, y=0.0010752584785223007, z=0.02321442775428295, visibility=0.0, presence=0.0)]])\n"
     ]
    }
   ],
   "source": [
    "print(detection_result)"
   ]
  },
  {
   "cell_type": "code",
   "execution_count": 34,
   "metadata": {},
   "outputs": [
    {
     "data": {
      "text/plain": [
       "21"
      ]
     },
     "execution_count": 34,
     "metadata": {},
     "output_type": "execute_result"
    }
   ],
   "source": [
    "str = '''HandLandmarkerResult(handedness=[[Category(index=0, score=0.932389497756958, display_name='Right', category_name='Right')]], \n",
    "hand_landmarks=[[NormalizedLandmark(x=0.6857998371124268, y=0.6237882971763611, z=6.605608859899803e-07, visibility=0.0, presence=0.0), \n",
    "                 NormalizedLandmark(x=0.5520344376564026, y=0.42683982849121094, z=0.10497207194566727, visibility=0.0, presence=0.0), \n",
    "                 NormalizedLandmark(x=0.44408804178237915, y=0.3911995589733124, z=0.1398639976978302, visibility=0.0, presence=0.0), NormalizedLandmark(x=0.3675501346588135, y=0.35901325941085815, z=0.13796304166316986, visibility=0.0, presence=0.0), NormalizedLandmark(x=0.301079660654068, y=0.32453614473342896, z=0.1338598132133484, visibility=0.0, presence=0.0), NormalizedLandmark(x=0.3556831181049347, y=0.5413959622383118, z=0.14467717707157135, visibility=0.0, presence=0.0), NormalizedLandmark(x=0.24146732687950134, y=0.45492520928382874, z=0.13960635662078857, visibility=0.0, presence=0.0), NormalizedLandmark(x=0.1878327578306198, y=0.37627363204956055, z=0.12517625093460083, visibility=0.0, presence=0.0), NormalizedLandmark(x=0.14252135157585144, y=0.30798211693763733, z=0.1101444810628891, visibility=0.0, presence=0.0), NormalizedLandmark(x=0.3687586486339569, y=0.5893068313598633, z=0.05641697347164154, visibility=0.0, presence=0.0), NormalizedLandmark(x=0.24947720766067505, y=0.47847267985343933, z=0.021709000691771507, visibility=0.0, presence=0.0), NormalizedLandmark(x=0.22884859144687653, y=0.3295437693595886, z=-0.009397472254931927, visibility=0.0, presence=0.0), NormalizedLandmark(x=0.2245921790599823, y=0.21519435942173004, z=-0.0264898594468832, visibility=0.0, presence=0.0), NormalizedLandmark(x=0.39097335934638977, y=0.6178070306777954, z=-0.033119603991508484, visibility=0.0, presence=0.0), NormalizedLandmark(x=0.2949379086494446, y=0.4697078466415405, z=-0.07468235492706299, visibility=0.0, presence=0.0), NormalizedLandmark(x=0.32265862822532654, y=0.3130172789096832, z=-0.09363310784101486, visibility=0.0, presence=0.0), NormalizedLandmark(x=0.3582998216152191, y=0.21637555956840515, z=-0.09841004014015198, visibility=0.0, presence=0.0), NormalizedLandmark(x=0.4174613058567047, y=0.6240968704223633, z=-0.1165221780538559, visibility=0.0, presence=0.0), NormalizedLandmark(x=0.34690842032432556, y=0.474104106426239, z=-0.14265336096286774, visibility=0.0, presence=0.0), NormalizedLandmark(x=0.36479026079177856, y=0.3524426519870758, z=-0.14823243021965027, visibility=0.0, presence=0.0), NormalizedLandmark(x=0.3998531699180603, y=0.2685401439666748, z=-0.14946605265140533, visibility=0.0, presence=0.0)]], hand_world_landmarks=[[Landmark(x=0.09247598052024841, y=0.005985889583826065, z=0.018121272325515747, visibility=0.0, presence=0.0), Landmark(x=0.06043979525566101, y=-0.014572571963071823, z=0.03170398622751236, visibility=0.0, presence=0.0), Landmark(x=0.031409285962581635, y=-0.03134108707308769, z=0.0312601663172245, visibility=0.0, presence=0.0), Landmark(x=0.003712995909154415, y=-0.03869929164648056, z=0.016895251348614693, visibility=0.0, presence=0.0), Landmark(x=-0.015091244131326675, y=-0.041760340332984924, z=-0.003717252518981695, visibility=0.0, presence=0.0), Landmark(x=-0.010071208700537682, y=-0.007182501256465912, z=0.02673552930355072, visibility=0.0, presence=0.0), Landmark(x=-0.03515952080488205, y=-0.019831717014312744, z=0.024639012292027473, visibility=0.0, presence=0.0), Landmark(x=-0.050541527569293976, y=-0.034168146550655365, z=0.029312273487448692, visibility=0.0, presence=0.0), Landmark(x=-0.06669263541698456, y=-0.047414734959602356, z=0.028661344200372696, visibility=0.0, presence=0.0), Landmark(x=-0.004121208097785711, y=0.004130961373448372, z=0.00565757742151618, visibility=0.0, presence=0.0), Landmark(x=-0.03354131430387497, y=-0.018216019496321678, z=-0.003586876206099987, visibility=0.0, presence=0.0), Landmark(x=-0.041125718504190445, y=-0.0402786023914814, z=-0.00445816433057189, visibility=0.0, presence=0.0), Landmark(x=-0.04308110475540161, y=-0.06564290821552277, z=-0.002709039254114032, visibility=0.0, presence=0.0), Landmark(x=0.003512296127155423, y=0.004471542779356241, z=-0.016896352171897888, visibility=0.0, presence=0.0), Landmark(x=-0.01853322982788086, y=-0.018893785774707794, z=-0.02021624520421028, visibility=0.0, presence=0.0), Landmark(x=-0.016448775306344032, y=-0.046963732689619064, z=-0.016810964792966843, visibility=0.0, presence=0.0), Landmark(x=-0.0020360909402370453, y=-0.07061164081096649, z=-0.010178837925195694, visibility=0.0, presence=0.0), Landmark(x=0.01878410391509533, y=0.005761360749602318, z=-0.03358060494065285, visibility=0.0, presence=0.0), Landmark(x=0.002201064955443144, y=-0.014651881530880928, z=-0.030715396627783775, visibility=0.0, presence=0.0), Landmark(x=-0.00615815632045269, y=-0.040476374328136444, z=-0.024294646456837654, visibility=0.0, presence=0.0), Landmark(x=0.010904256254434586, y=-0.058444052934646606, z=-0.01926521584391594, visibility=0.0, presence=0.0)]])'''\n",
    "str.count(\"NormalizedLandmark\") # 좌표 21개 "
   ]
  },
  {
   "cell_type": "code",
   "execution_count": 38,
   "metadata": {},
   "outputs": [
    {
     "data": {
      "text/plain": [
       "0.2590300738811493"
      ]
     },
     "execution_count": 38,
     "metadata": {},
     "output_type": "execute_result"
    }
   ],
   "source": [
    "detection_result.hand_landmarks[0][0].y"
   ]
  },
  {
   "cell_type": "code",
   "execution_count": null,
   "metadata": {},
   "outputs": [],
   "source": []
  }
 ],
 "metadata": {
  "kernelspec": {
   "display_name": "TORCH_NLP38",
   "language": "python",
   "name": "python3"
  },
  "language_info": {
   "codemirror_mode": {
    "name": "ipython",
    "version": 3
   },
   "file_extension": ".py",
   "mimetype": "text/x-python",
   "name": "python",
   "nbconvert_exporter": "python",
   "pygments_lexer": "ipython3",
   "version": "3.8.19"
  }
 },
 "nbformat": 4,
 "nbformat_minor": 2
}
